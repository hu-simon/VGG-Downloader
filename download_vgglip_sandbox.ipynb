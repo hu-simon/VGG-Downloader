{
 "metadata": {
  "language_info": {
   "codemirror_mode": {
    "name": "ipython",
    "version": 3
   },
   "file_extension": ".py",
   "mimetype": "text/x-python",
   "name": "python",
   "nbconvert_exporter": "python",
   "pygments_lexer": "ipython3",
   "version": "3.8.3-final"
  },
  "orig_nbformat": 2,
  "kernelspec": {
   "name": "python_defaultSpec_1597363477548",
   "display_name": "Python 3.8.3 64-bit ('torch': conda)"
  }
 },
 "nbformat": 4,
 "nbformat_minor": 2,
 "cells": [
  {
   "cell_type": "code",
   "execution_count": 1,
   "metadata": {},
   "outputs": [],
   "source": [
    "import requests\n",
    "from bs4 import BeautifulSoup\n",
    "\n",
    "from pprint import pprint"
   ]
  },
  {
   "cell_type": "code",
   "execution_count": 2,
   "metadata": {
    "tags": []
   },
   "outputs": [],
   "source": [
    "base_url = \"https://www.robots.ox.ac.uk/~vgg/data/lip_reading/lrw1.html\"\n",
    "dataset_name = base_url.split(\"/\")[-1].split(\".\")[0]\n",
    "\n",
    "result = requests.get(base_url)\n",
    "soup = BeautifulSoup(result.content, \"html.parser\")"
   ]
  },
  {
   "cell_type": "code",
   "execution_count": 3,
   "metadata": {
    "tags": []
   },
   "outputs": [
    {
     "output_type": "stream",
     "name": "stdout",
     "text": "[]\n"
    }
   ],
   "source": [
    "all_links = soup.findAll(\"a\")\n",
    "links = list()\n",
    "for link in all_links:\n",
    "    if (dataset_name + \"_\") in str(link.get(\"href\")):\n",
    "        links.append(link.get(\"href\"))\n",
    "pprint(links)"
   ]
  },
  {
   "cell_type": "code",
   "execution_count": 4,
   "metadata": {
    "tags": []
   },
   "outputs": [
    {
     "output_type": "stream",
     "name": "stdout",
     "text": "[]\n"
    }
   ],
   "source": [
    "links = [\".\".join(link.split(\".\")[1:]) for link in links]\n",
    "pprint(links)"
   ]
  },
  {
   "cell_type": "code",
   "execution_count": 5,
   "metadata": {
    "tags": []
   },
   "outputs": [
    {
     "output_type": "stream",
     "name": "stdout",
     "text": "[]\n"
    }
   ],
   "source": [
    "download_links = [\"/\".join(base_url.split(\"/\")[:-1]) + link for link in links]\n",
    "pprint(download_links)"
   ]
  },
  {
   "cell_type": "code",
   "execution_count": 6,
   "metadata": {
    "tags": []
   },
   "outputs": [
    {
     "output_type": "stream",
     "name": "stdout",
     "text": "474f255cdf6da35f41824d2b8a00d076\nef03d6ab52d14de38db23365e2e09308\n532343bbb5f14ab14623c5cce5c8b930\n78709823e18c3906e49b99536c5343de\nabb5fcf3480f2899d09d0171b716026f\nb311feea9705533350a030811501f859\n37e525220e8d47bc7b8bee4753131390\n"
    }
   ],
   "source": [
    "# Fetch the associated MD5 checksums.\n",
    "results = soup.findAll(\"tt\")\n",
    "for result in results:\n",
    "    if len(result.text) == 32:\n",
    "        print(result.text)"
   ]
  }
 ]
}